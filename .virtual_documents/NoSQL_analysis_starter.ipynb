





from pymongo import MongoClient
import pandas as pd
from pprint import pprint


# Create an instance of MongoClient
mongo = MongoClient(port=27017)


# assign the uk_food database to a variable name
db = mongo['uk_food']


# review the collections in our database
print(db.list_collection_names())


# assign the collection to a variable
establishments = db['establishments']








pprint(db.establishments.find_one())


# Find the establishments with a hygiene score of 20
query = {'scores.Hygiene': 20}

# Use count_documents to display the number of documents in the result
doc_count = establishments.count_documents(query)
print(f'There are {doc_count} documents with a Hygeine score of 20.')

# Display the first document in the results using pprint
results = list(establishments.find(query))
pprint(results[0])  # Print the first document in the result



# Convert the result to a Pandas DataFrame
results_df = pd.DataFrame(results)

# Display the number of rows in the DataFrame
rows = len(results_df)
print(f'There are {rows} rows in the dataframe.')

# Display the first 10 rows of the DataFrame
results_df.head(10)





# Find the establishments with London as the Local Authority and has a RatingValue greater than or equal to 4.
query = {'LocalAuthorityName': {'$regex': 'London'}, 'RatingValue': {'$gte': 4}}

# Use count_documents to display the number of documents in the result
doc_count = establishments.count_documents(query)
print(f'There are {doc_count} documents with a Local Authority of London and a RatingValue greater than or equal to 4.')

# Display the first document in the results using pprint
results = list(establishments.find(query))
pprint(results[0])  # Print the first document in the result



# Convert the result to a Pandas DataFrame
results_df = pd.DataFrame(results)

# Display the number of rows in the DataFrame
rows = len(results_df)
print(f'There are {rows} rows in the dataframe.')

# Display the first 10 rows of the DataFrame
results_df.head(10)





# Search within 0.01 degree on either side of the latitude and longitude.
# Rating value must equal 5
# Sort by hygiene score
business = establishments.find_one({"BusinessName": "Penang Flavours"}, {"geocode.latitude": 1, "geocode.longitude": 1})

degree_search = 0.01
latitude = business['geocode']['latitude']
longitude = business['geocode']['longitude']


query = query = {
        "RatingValue": 5,
        "geocode.latitude": {"$gte": latitude - degree_search, "$lte": latitude + degree_search},
        "geocode.longitude": {"$gte": longitude - degree_search, "$lte": longitude + degree_search}
    }
sort = [("scores.Hygiene", 1)]
limit = 5

# Print the results
results = list(establishments.find(query).sort(sort).limit(limit))
pprint(results)



# Convert the results to a dataframe
results_df = pd.DataFrame(results)
results_df





# Create a pipeline that:
# 1. Matches establishments with a hygiene score of 0
# 2. Groups the matches by Local Authority
# 3. Sorts the matches from highest to lowest
match_query = {'$match': {'scores.Hygiene': 0}}
group_query = {'$group': {'_id': "$LocalAuthorityName", 'count': {'$sum': 1}}}
sort_values = {'$sort': { 'count': -1 }}

# Put the pipeline together
pipeline = [match_query, group_query, sort_values]
results = list(establishments.aggregate(pipeline))

# Print the number of documents in the result
print("Number of local authorities having at least one establishment with a hygiene score of 0: ", len(results))

# Print the first 10 results
pprint(results[0:10])


# Convert the result to a Pandas DataFrame
results_df = pd.DataFrame(results)

# Display the number of rows in the DataFrame
rows = len(results_df)
print(f'There are {rows} rows in the dataframe.')

# Display the first 10 rows of the DataFrame
results_df.head(10)




